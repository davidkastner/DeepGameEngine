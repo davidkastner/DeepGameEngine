{
 "cells": [
  {
   "cell_type": "markdown",
   "id": "067b8b23-9a42-45fa-8823-367b8b6af484",
   "metadata": {},
   "source": [
    "# 1. Setup Mario"
   ]
  },
  {
   "cell_type": "code",
   "execution_count": 4,
   "id": "9d8ddcb0-98ed-46c3-95f6-7280601a9c1a",
   "metadata": {},
   "outputs": [
    {
     "name": "stdout",
     "output_type": "stream",
     "text": [
      "Requirement already satisfied: gym_super_mario_bros==7.3.0 in /Users/kastner/opt/anaconda3/envs/dge/lib/python3.8/site-packages (7.3.0)\n",
      "Requirement already satisfied: nes_py==8.2.1 in /Users/kastner/opt/anaconda3/envs/dge/lib/python3.8/site-packages (8.2.1)\n",
      "Requirement already satisfied: gym>=0.17.2 in /Users/kastner/opt/anaconda3/envs/dge/lib/python3.8/site-packages (from nes_py==8.2.1) (0.26.2)\n",
      "Requirement already satisfied: numpy>=1.18.5 in /Users/kastner/opt/anaconda3/envs/dge/lib/python3.8/site-packages (from nes_py==8.2.1) (1.24.3)\n",
      "Requirement already satisfied: pyglet<=1.5.21,>=1.4.0 in /Users/kastner/opt/anaconda3/envs/dge/lib/python3.8/site-packages (from nes_py==8.2.1) (1.5.21)\n",
      "Requirement already satisfied: tqdm>=4.48.2 in /Users/kastner/opt/anaconda3/envs/dge/lib/python3.8/site-packages (from nes_py==8.2.1) (4.65.0)\n",
      "Requirement already satisfied: cloudpickle>=1.2.0 in /Users/kastner/opt/anaconda3/envs/dge/lib/python3.8/site-packages (from gym>=0.17.2->nes_py==8.2.1) (2.2.1)\n",
      "Requirement already satisfied: gym-notices>=0.0.4 in /Users/kastner/opt/anaconda3/envs/dge/lib/python3.8/site-packages (from gym>=0.17.2->nes_py==8.2.1) (0.0.8)\n",
      "Requirement already satisfied: importlib-metadata>=4.8.0 in /Users/kastner/opt/anaconda3/envs/dge/lib/python3.8/site-packages (from gym>=0.17.2->nes_py==8.2.1) (6.6.0)\n",
      "Requirement already satisfied: zipp>=0.5 in /Users/kastner/opt/anaconda3/envs/dge/lib/python3.8/site-packages (from importlib-metadata>=4.8.0->gym>=0.17.2->nes_py==8.2.1) (3.15.0)\n",
      "Requirement already satisfied: gym in /Users/kastner/opt/anaconda3/envs/dge/lib/python3.8/site-packages (0.26.2)\n",
      "Requirement already satisfied: numpy>=1.18.0 in /Users/kastner/opt/anaconda3/envs/dge/lib/python3.8/site-packages (from gym) (1.24.3)\n",
      "Requirement already satisfied: cloudpickle>=1.2.0 in /Users/kastner/opt/anaconda3/envs/dge/lib/python3.8/site-packages (from gym) (2.2.1)\n",
      "Requirement already satisfied: gym-notices>=0.0.4 in /Users/kastner/opt/anaconda3/envs/dge/lib/python3.8/site-packages (from gym) (0.0.8)\n",
      "Requirement already satisfied: importlib-metadata>=4.8.0 in /Users/kastner/opt/anaconda3/envs/dge/lib/python3.8/site-packages (from gym) (6.6.0)\n",
      "Requirement already satisfied: zipp>=0.5 in /Users/kastner/opt/anaconda3/envs/dge/lib/python3.8/site-packages (from importlib-metadata>=4.8.0->gym) (3.15.0)\n"
     ]
    }
   ],
   "source": [
    "! pip install gym_super_mario_bros==7.3.0 nes_py==8.2.1\n",
    "! pip install gym"
   ]
  },
  {
   "cell_type": "code",
   "execution_count": 7,
   "id": "1d181de5-c834-4375-97b5-390a0e67ab75",
   "metadata": {},
   "outputs": [],
   "source": [
    "# Import the game\n",
    "import gym_super_mario_bros\n",
    "# Import the Joypad wrapper\n",
    "from nes_py.wrappers import JoypadSpace\n",
    "# Import the simplified controls\n",
    "from gym_super_mario_bros.actions import SIMPLE_MOVEMENT\n",
    "import gym"
   ]
  },
  {
   "cell_type": "code",
   "execution_count": 20,
   "id": "dd73256f-1b7b-4b7f-8ad7-1037786bc644",
   "metadata": {},
   "outputs": [],
   "source": [
    "# Setup the game\n",
    "env = gym_super_mario_bros.make(\"SuperMarioBros-v0\", render_mode='human', apply_api_compatibility=True)\n",
    "env = JoypadSpace(env, SIMPLE_MOVEMENT)"
   ]
  },
  {
   "cell_type": "code",
   "execution_count": 21,
   "id": "8d6cc088-39d9-48e0-8cdb-220827fdb4b2",
   "metadata": {},
   "outputs": [
    {
     "name": "stdout",
     "output_type": "stream",
     "text": [
      "Possible actions: Discrete(7)\n",
      "Size of the output layer: (240, 256, 3)\n"
     ]
    }
   ],
   "source": [
    "print(f\"Possible actions: {env.action_space}\")\n",
    "print(f\"Size of the output layer: {env.observation_space.shape}\")"
   ]
  },
  {
   "cell_type": "code",
   "execution_count": null,
   "id": "a8ae3098-c1de-46e9-b2d3-4bce8b96abc8",
   "metadata": {},
   "outputs": [
    {
     "name": "stderr",
     "output_type": "stream",
     "text": [
      "2023-06-12 23:54:56.149 python[4318:3265254] Warning: Expected min height of view: (<NSPopoverTouchBarItemButton: 0x7fe957b52360>) to be less than or equal to 30 but got a height of 32.000000. This error will be logged once per view in violation.\n",
      "2023-06-12 23:54:56.150 python[4318:3265254] Warning: Expected min height of view: (<NSButton: 0x7fe94fef7400>) to be less than or equal to 30 but got a height of 32.000000. This error will be logged once per view in violation.\n",
      "2023-06-12 23:54:56.151 python[4318:3265254] Warning: Expected min height of view: (<NSPopoverTouchBarItemButton: 0x7fe94fef96c0>) to be less than or equal to 30 but got a height of 32.000000. This error will be logged once per view in violation.\n",
      "2023-06-12 23:54:56.152 python[4318:3265254] Warning: Expected min height of view: (<NSPopoverTouchBarItemButton: 0x7fe9597047f0>) to be less than or equal to 30 but got a height of 32.000000. This error will be logged once per view in violation.\n",
      "/Users/kastner/opt/anaconda3/envs/dge/lib/python3.8/site-packages/gym_super_mario_bros/smb_env.py:148: RuntimeWarning: overflow encountered in scalar subtract\n",
      "  return (self.ram[0x86] - self.ram[0x071c]) % 256\n"
     ]
    }
   ],
   "source": [
    "# Create a flag for restart or not\n",
    "done = True\n",
    "# Loop over each frame in the game\n",
    "for step in range(100000):\n",
    "    if done:\n",
    "        # Start the game\n",
    "        env.reset()\n",
    "    # Do random actions\n",
    "    state, reward, done, trunc, info = env.step(env.action_space.sample())\n",
    "    # Show the game on the screen\n",
    "    env.render()\n",
    "# Close the game\n",
    "env.close()"
   ]
  },
  {
   "cell_type": "markdown",
   "id": "801028a2-8635-4491-b998-8823af9e497f",
   "metadata": {},
   "source": [
    "# 2. Preprocess the Environment"
   ]
  },
  {
   "cell_type": "code",
   "execution_count": null,
   "id": "35ea6ad7-8039-4347-bdcd-ee7d15653ba5",
   "metadata": {},
   "outputs": [],
   "source": []
  },
  {
   "cell_type": "markdown",
   "id": "dea1d5f3-fb29-476d-b2ff-de806b92125c",
   "metadata": {},
   "source": [
    "# 3. Train the RL Model"
   ]
  },
  {
   "cell_type": "code",
   "execution_count": null,
   "id": "4be480cf-d735-42c4-b242-008350f56844",
   "metadata": {},
   "outputs": [],
   "source": []
  },
  {
   "cell_type": "markdown",
   "id": "813e7574-906f-482f-8998-df333fbd033d",
   "metadata": {},
   "source": [
    "# 4. Test it out"
   ]
  },
  {
   "cell_type": "code",
   "execution_count": null,
   "id": "3ba0cd4c-2edf-49f8-ad63-a97a50bfdbea",
   "metadata": {},
   "outputs": [],
   "source": []
  }
 ],
 "metadata": {
  "kernelspec": {
   "display_name": "Python 3 (ipykernel)",
   "language": "python",
   "name": "python3"
  },
  "language_info": {
   "codemirror_mode": {
    "name": "ipython",
    "version": 3
   },
   "file_extension": ".py",
   "mimetype": "text/x-python",
   "name": "python",
   "nbconvert_exporter": "python",
   "pygments_lexer": "ipython3",
   "version": "3.8.16"
  }
 },
 "nbformat": 4,
 "nbformat_minor": 5
}
